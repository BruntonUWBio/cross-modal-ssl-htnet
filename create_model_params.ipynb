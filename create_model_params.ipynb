{
 "cells": [
  {
   "cell_type": "markdown",
   "metadata": {},
   "source": [
    "# Create parameter files for each model type"
   ]
  },
  {
   "cell_type": "code",
   "execution_count": 1,
   "metadata": {},
   "outputs": [],
   "source": [
    "from util import save_params\n"
   ]
  },
  {
   "cell_type": "markdown",
   "metadata": {},
   "source": [
    "### Set savepath and template hyperparameters"
   ]
  },
  {
   "cell_type": "code",
   "execution_count": 2,
   "metadata": {},
   "outputs": [],
   "source": [
    "sp = 'models/'\n",
    "\n",
    "template = {'dropoutRate' : 0.5, 'kernLength' : 64, 'F1' : 8, 'useSincnet' : False,\n",
    "            'D' : 2, 'norm_rate' : 0.25, 'dropoutType' : 'Dropout',\n",
    "            'ROIs' : 100,'useHilbert' : True, 'projectROIs' : False, 'kernLength_sep' : 16,\n",
    "            'do_log' : False, 'compute_val' : 'power', 'data_srate' : 250, 'base_split' : 4,\n",
    "            'avg_1' : 4, 'avg_2' : 8, 'interm_dim': 40}"
   ]
  },
  {
   "cell_type": "markdown",
   "metadata": {},
   "source": [
    "### Create hyperparameter files for each dataset"
   ]
  },
  {
   "cell_type": "code",
   "execution_count": 5,
   "metadata": {},
   "outputs": [],
   "source": [
    "###ECoG move/rest###\n",
    "# Neural\n",
    "fname = 'naturalistic_neural.pkl'\n",
    "args_in = template.copy()\n",
    "args_in['F1'], args_in['useSincnet'] = 19, True\n",
    "args_in['kernLength_sep'] = 56\n",
    "save_params(sp+fname, args_in)\n",
    "del args_in\n",
    "\n",
    "# Pose\n",
    "fname = 'naturalistic_pose.pkl'\n",
    "args_in = template.copy()\n",
    "args_in['F1'], args_in['useSincnet'] = 19, True\n",
    "args_in['kernLength_sep'] = 56\n",
    "save_params(sp+fname, args_in)\n",
    "del args_in\n",
    "\n",
    "\n",
    "###EEG move/rest###\n",
    "# Neural\n",
    "fname = 'eeg_move_rest_neural.pkl'\n",
    "args_in = template.copy()\n",
    "args_in['F1'], args_in['useSincnet'] = 19, True\n",
    "args_in['kernLength_sep'] = 56\n",
    "save_params(sp+fname, args_in)\n",
    "del args_in\n",
    "\n",
    "# Pose\n",
    "fname = 'eeg_move_rest_pose.pkl'\n",
    "args_in = template.copy()\n",
    "args_in['F1'], args_in['useSincnet'] = 19, True\n",
    "args_in['kernLength_sep'] = 56\n",
    "save_params(sp+fname, args_in)\n",
    "del args_in\n",
    "\n",
    "###ECoG finger flexion###\n",
    "# Neural\n",
    "fname = 'fingerflex_neural.pkl'\n",
    "args_in = template.copy()\n",
    "args_in['F1'], args_in['useSincnet'] = 6, True\n",
    "args_in['D'], args_in['kernLength_sep'] = 5, 56\n",
    "args_in['do_log'], args_in['avg_1'] = True, 8\n",
    "save_params(sp+fname, args_in)\n",
    "del args_in\n",
    "\n",
    "# Pose\n",
    "fname = 'fingerflex_pose.pkl'\n",
    "args_in = template.copy()\n",
    "args_in['F1'], args_in['kernLength_sep'] = 20, 56\n",
    "args_in['avg_1'] = 8\n",
    "save_params(sp+fname, args_in)\n",
    "del args_in\n",
    "\n",
    "###EEG perturbations###\n",
    "# Neural\n",
    "fname = 'eeg_balance_perturbations_neural.pkl'\n",
    "args_in = template.copy()\n",
    "args_in['F1'], args_in['useSincnet'] = 6, True\n",
    "args_in['D'], args_in['kernLength_sep'] = 3, 56\n",
    "save_params(sp+fname, args_in)\n",
    "del args_in\n",
    "\n",
    "# Pose\n",
    "fname = 'eeg_balance_perturbations_pose.pkl'\n",
    "args_in = template.copy()\n",
    "args_in['F1'], args_in['useSincnet'] = 6, True\n",
    "args_in['D'], args_in['kernLength_sep'] = 3, 56\n",
    "save_params(sp+fname, args_in)\n",
    "del args_in\n"
   ]
  },
  {
   "cell_type": "code",
   "execution_count": null,
   "metadata": {},
   "outputs": [],
   "source": []
  }
 ],
 "metadata": {
  "kernelspec": {
   "display_name": "Python 3",
   "language": "python",
   "name": "python3"
  },
  "language_info": {
   "codemirror_mode": {
    "name": "ipython",
    "version": 3
   },
   "file_extension": ".py",
   "mimetype": "text/x-python",
   "name": "python",
   "nbconvert_exporter": "python",
   "pygments_lexer": "ipython3",
   "version": "3.7.6"
  }
 },
 "nbformat": 4,
 "nbformat_minor": 4
}
